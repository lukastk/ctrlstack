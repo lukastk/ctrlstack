{
    "cells": [
        {
            "cell_type": "markdown",
            "id": "c92470c0",
            "metadata": {},
            "source": [
                "# test_remote_cli"
            ]
        },
        {
            "cell_type": "code",
            "execution_count": null,
            "id": "2a1db7e2",
            "metadata": {},
            "outputs": [],
            "source": [
                "#|hide\n",
                "import nblite; from nblite import show_doc; nblite.nbl_export()"
            ]
        },
        {
            "cell_type": "code",
            "execution_count": null,
            "id": "ca1f5248",
            "metadata": {},
            "outputs": [],
            "source": [
                "import requests\n",
                "import subprocess\n",
                "import time\n",
                "import json\n",
                "from _test_server import FooController, FooMessage, BarMessage"
            ]
        },
        {
            "cell_type": "code",
            "execution_count": null,
            "id": "b235d147",
            "metadata": {},
            "outputs": [
                {
                    "name": "stdout",
                    "output_type": "stream",
                    "text": [
                        "\u001b[1m                                                                                \u001b[0m\r\n",
                        "\u001b[1m \u001b[0m\u001b[1;33mUsage: \u001b[0m\u001b[1m_test_remote_cli.py [OPTIONS] COMMAND [ARGS]...\u001b[0m\u001b[1m                        \u001b[0m\u001b[1m \u001b[0m\r\n",
                        "\u001b[1m                                                                                \u001b[0m\r\n"
                    ]
                },
                {
                    "name": "stdout",
                    "output_type": "stream",
                    "text": [
                        "\u001b[2m\u256d\u2500\u001b[0m\u001b[2m Options \u001b[0m\u001b[2m\u2500\u2500\u2500\u2500\u2500\u2500\u2500\u2500\u2500\u2500\u2500\u2500\u2500\u2500\u2500\u2500\u2500\u2500\u2500\u2500\u2500\u2500\u2500\u2500\u2500\u2500\u2500\u2500\u2500\u2500\u2500\u2500\u2500\u2500\u2500\u2500\u2500\u2500\u2500\u2500\u2500\u2500\u2500\u2500\u2500\u2500\u2500\u2500\u2500\u2500\u2500\u2500\u2500\u2500\u2500\u2500\u2500\u2500\u2500\u2500\u2500\u2500\u2500\u2500\u2500\u2500\u2500\u001b[0m\u001b[2m\u2500\u256e\u001b[0m\r\n",
                        "\u001b[2m\u2502\u001b[0m \u001b[1;36m-\u001b[0m\u001b[1;36m-install\u001b[0m\u001b[1;36m-completion\u001b[0m          Install completion for the current shell.      \u001b[2m\u2502\u001b[0m\r\n",
                        "\u001b[2m\u2502\u001b[0m \u001b[1;36m-\u001b[0m\u001b[1;36m-show\u001b[0m\u001b[1;36m-completion\u001b[0m             Show completion for the current shell, to copy \u001b[2m\u2502\u001b[0m\r\n",
                        "\u001b[2m\u2502\u001b[0m                               it or customize the installation.              \u001b[2m\u2502\u001b[0m\r\n",
                        "\u001b[2m\u2502\u001b[0m \u001b[1;36m-\u001b[0m\u001b[1;36m-help\u001b[0m                        Show this message and exit.                    \u001b[2m\u2502\u001b[0m\r\n",
                        "\u001b[2m\u2570\u2500\u2500\u2500\u2500\u2500\u2500\u2500\u2500\u2500\u2500\u2500\u2500\u2500\u2500\u2500\u2500\u2500\u2500\u2500\u2500\u2500\u2500\u2500\u2500\u2500\u2500\u2500\u2500\u2500\u2500\u2500\u2500\u2500\u2500\u2500\u2500\u2500\u2500\u2500\u2500\u2500\u2500\u2500\u2500\u2500\u2500\u2500\u2500\u2500\u2500\u2500\u2500\u2500\u2500\u2500\u2500\u2500\u2500\u2500\u2500\u2500\u2500\u2500\u2500\u2500\u2500\u2500\u2500\u2500\u2500\u2500\u2500\u2500\u2500\u2500\u2500\u2500\u2500\u256f\u001b[0m\r\n",
                        "\u001b[2m\u256d\u2500\u001b[0m\u001b[2m Commands \u001b[0m\u001b[2m\u2500\u2500\u2500\u2500\u2500\u2500\u2500\u2500\u2500\u2500\u2500\u2500\u2500\u2500\u2500\u2500\u2500\u2500\u2500\u2500\u2500\u2500\u2500\u2500\u2500\u2500\u2500\u2500\u2500\u2500\u2500\u2500\u2500\u2500\u2500\u2500\u2500\u2500\u2500\u2500\u2500\u2500\u2500\u2500\u2500\u2500\u2500\u2500\u2500\u2500\u2500\u2500\u2500\u2500\u2500\u2500\u2500\u2500\u2500\u2500\u2500\u2500\u2500\u2500\u2500\u2500\u001b[0m\u001b[2m\u2500\u256e\u001b[0m\r\n",
                        "\u001b[2m\u2502\u001b[0m \u001b[1;36mbar                  \u001b[0m\u001b[1;36m \u001b[0m                                                       \u001b[2m\u2502\u001b[0m\r\n",
                        "\u001b[2m\u2502\u001b[0m \u001b[1;36mbaz                  \u001b[0m\u001b[1;36m \u001b[0m                                                       \u001b[2m\u2502\u001b[0m\r\n",
                        "\u001b[2m\u2502\u001b[0m \u001b[1;36mqux                  \u001b[0m\u001b[1;36m \u001b[0m                                                       \u001b[2m\u2502\u001b[0m\r\n",
                        "\u001b[2m\u2502\u001b[0m \u001b[1;36mstart-local-server   \u001b[0m\u001b[1;36m \u001b[0m                                                       \u001b[2m\u2502\u001b[0m\r\n",
                        "\u001b[2m\u2502\u001b[0m \u001b[1;36mget-server-status    \u001b[0m\u001b[1;36m \u001b[0m                                                       \u001b[2m\u2502\u001b[0m\r\n",
                        "\u001b[2m\u2502\u001b[0m \u001b[1;36mstop-local-server    \u001b[0m\u001b[1;36m \u001b[0m                                                       \u001b[2m\u2502\u001b[0m\r\n",
                        "\u001b[2m\u2502\u001b[0m \u001b[1;36mrestart-local-server \u001b[0m\u001b[1;36m \u001b[0m                                                       \u001b[2m\u2502\u001b[0m\r\n",
                        "\u001b[2m\u2570\u2500\u2500\u2500\u2500\u2500\u2500\u2500\u2500\u2500\u2500\u2500\u2500\u2500\u2500\u2500\u2500\u2500\u2500\u2500\u2500\u2500\u2500\u2500\u2500\u2500\u2500\u2500\u2500\u2500\u2500\u2500\u2500\u2500\u2500\u2500\u2500\u2500\u2500\u2500\u2500\u2500\u2500\u2500\u2500\u2500\u2500\u2500\u2500\u2500\u2500\u2500\u2500\u2500\u2500\u2500\u2500\u2500\u2500\u2500\u2500\u2500\u2500\u2500\u2500\u2500\u2500\u2500\u2500\u2500\u2500\u2500\u2500\u2500\u2500\u2500\u2500\u2500\u2500\u256f\u001b[0m\r\n",
                        "\r\n"
                    ]
                }
            ],
            "source": [
                "!python _test_remote_cli.py stop-local-server > /dev/null\n",
                "!python _test_remote_cli.py"
            ]
        },
        {
            "cell_type": "code",
            "execution_count": null,
            "id": "0efa5581",
            "metadata": {},
            "outputs": [],
            "source": [
                "%%capture res\n",
                "!python _test_remote_cli.py get-server-status"
            ]
        },
        {
            "cell_type": "code",
            "execution_count": null,
            "id": "2584dd24",
            "metadata": {},
            "outputs": [],
            "source": [
                "assert res.stdout.strip() == 'No local server is running.'"
            ]
        },
        {
            "cell_type": "code",
            "execution_count": null,
            "id": "b0a7637c",
            "metadata": {},
            "outputs": [],
            "source": [
                "%%capture res\n",
                "!python _test_remote_cli.py bar"
            ]
        },
        {
            "cell_type": "code",
            "execution_count": null,
            "id": "e8e2ac0f",
            "metadata": {},
            "outputs": [],
            "source": [
                "assert res.stdout.strip() == 'bar'"
            ]
        },
        {
            "cell_type": "code",
            "execution_count": null,
            "id": "92b6b75c",
            "metadata": {},
            "outputs": [],
            "source": [
                "%%capture res\n",
                "!python _test_remote_cli.py baz 123"
            ]
        },
        {
            "cell_type": "code",
            "execution_count": null,
            "id": "5f9b8568",
            "metadata": {},
            "outputs": [],
            "source": [
                "assert res.stdout.strip() == 'baz 123'"
            ]
        },
        {
            "cell_type": "code",
            "execution_count": null,
            "id": "44d24ae0",
            "metadata": {},
            "outputs": [],
            "source": [
                "%%capture res\n",
                "!python _test_remote_cli.py qux"
            ]
        },
        {
            "cell_type": "code",
            "execution_count": null,
            "id": "56472782",
            "metadata": {},
            "outputs": [],
            "source": [
                "assert res.stdout.strip() == 'qux'"
            ]
        },
        {
            "cell_type": "code",
            "execution_count": null,
            "id": "5d334b21",
            "metadata": {},
            "outputs": [],
            "source": [
                "%%capture res\n",
                "!python _test_remote_cli.py get-server-status"
            ]
        },
        {
            "cell_type": "code",
            "execution_count": null,
            "id": "b52a56b5",
            "metadata": {},
            "outputs": [],
            "source": [
                "assert res.stdout.strip().startswith('Local server is running')"
            ]
        },
        {
            "cell_type": "code",
            "execution_count": null,
            "id": "45331547",
            "metadata": {},
            "outputs": [],
            "source": [
                "%%capture res\n",
                "!python _test_remote_cli.py stop-local-server"
            ]
        },
        {
            "cell_type": "code",
            "execution_count": null,
            "id": "0ef26ed4",
            "metadata": {},
            "outputs": [],
            "source": [
                "assert res.stdout.strip().startswith('Stopped local server')"
            ]
        },
        {
            "cell_type": "code",
            "execution_count": null,
            "id": "f706926c",
            "metadata": {},
            "outputs": [],
            "source": [
                "%%capture res\n",
                "!python _test_remote_cli.py stop-local-server"
            ]
        },
        {
            "cell_type": "code",
            "execution_count": null,
            "id": "5798374d",
            "metadata": {},
            "outputs": [],
            "source": [
                "assert res.stdout.strip().startswith('No local server running')"
            ]
        }
    ],
    "metadata": {
        "jupytext": {
            "cell_metadata_filter": "-all",
            "main_language": "python",
            "notebook_metadata_filter": "-all"
        },
        "kernelspec": {
            "display_name": "ctrlstack",
            "language": "python",
            "name": "python3"
        },
        "language_info": {
            "codemirror_mode": {
                "name": "ipython",
                "version": 3
            },
            "file_extension": ".py",
            "mimetype": "text/x-python",
            "name": "python",
            "nbconvert_exporter": "python",
            "pygments_lexer": "ipython3",
            "version": "3.11.11"
        },
        "nblite_source_hash": "297bdbe2449164fd26259d0abbce107ec83e82b92c797d965a196f47fa2ba8e2"
    },
    "nbformat": 4,
    "nbformat_minor": 5
}