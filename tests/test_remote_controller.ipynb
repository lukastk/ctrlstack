{
    "cells": [
        {
            "cell_type": "markdown",
            "id": "c92470c0",
            "metadata": {},
            "source": [
                "# test_remote_controller"
            ]
        },
        {
            "cell_type": "code",
            "execution_count": null,
            "id": "2a1db7e2",
            "metadata": {},
            "outputs": [],
            "source": [
                "#|hide\n",
                "import nblite; from nblite import show_doc; nblite.nbl_export()"
            ]
        },
        {
            "cell_type": "code",
            "execution_count": null,
            "id": "ca1f5248",
            "metadata": {},
            "outputs": [],
            "source": [
                "import requests\n",
                "import subprocess\n",
                "import time\n",
                "import json\n",
                "from ctrlstack.remote_controller import get_remote_controller\n",
                "from _test_server import FooController, FooMessage, BarMessage"
            ]
        },
        {
            "cell_type": "markdown",
            "id": "c8f73cae",
            "metadata": {},
            "source": [
                "Start the FastAPI server in the background"
            ]
        },
        {
            "cell_type": "code",
            "execution_count": null,
            "id": "5d113e1e",
            "metadata": {},
            "outputs": [],
            "source": [
                "port = 8765\n",
                "server_process = subprocess.Popen(\n",
                "    [\"fastapi\", \"dev\", \"_test_server.py\", '--port', str(port)],\n",
                "    stdout=subprocess.PIPE,\n",
                "    stderr=subprocess.PIPE\n",
                ")\n",
                "time.sleep(2)\n",
                "remote_ctrl = get_remote_controller(FooController, url=f\"http://localhost:{port}\")"
            ]
        },
        {
            "cell_type": "code",
            "execution_count": null,
            "id": "6d9bbd5d",
            "metadata": {},
            "outputs": [],
            "source": [
                "res = await remote_ctrl.bar(query_msg=\"Hello, World!\", body=FooMessage(**{'body_msg': 'This is a body message'}))\n",
                "assert res == 'Message 1: Hello, World!\\nMessage 2: This is a body message'"
            ]
        },
        {
            "cell_type": "code",
            "execution_count": null,
            "id": "86d7ec52",
            "metadata": {},
            "outputs": [],
            "source": [
                "res = await remote_ctrl.bar2(\n",
                "    query_msg = 'Hello from the query.',\n",
                "    body1 = FooMessage(body_msg='#1.'),\n",
                "    body2 = BarMessage(body_msg='#2.'),\n",
                "    my_list = [1,2,3],\n",
                "    my_tuple = ('a','b'),\n",
                ")\n",
                "assert res == \"Message 1: Hello from the query.\\nMessage 2: #1.\\nMessage 3: #2.\\nMy list: [1, 2, 3]\\nMy tuple: ('a', 'b')\\nBody3: None\""
            ]
        },
        {
            "cell_type": "code",
            "execution_count": null,
            "id": "3fe2761c",
            "metadata": {},
            "outputs": [],
            "source": [
                "res = await remote_ctrl.bar2(\n",
                "    query_msg = 'Hello from the query.',\n",
                "    body1 = FooMessage(body_msg='#1.'),\n",
                "    body2 = BarMessage(body_msg='#2.'),\n",
                "    my_list = [1,2,3],\n",
                "    my_tuple = ('a','b'),\n",
                "    body3 = BarMessage(body_msg=\"#3.\"),\n",
                ")\n",
                "assert res == \"Message 1: Hello from the query.\\nMessage 2: #1.\\nMessage 3: #2.\\nMy list: [1, 2, 3]\\nMy tuple: ('a', 'b')\\nBody3: #3.\""
            ]
        },
        {
            "cell_type": "code",
            "execution_count": null,
            "id": "4a86e83d",
            "metadata": {},
            "outputs": [],
            "source": [
                "res = await remote_ctrl.baz(\n",
                "    x = 123\n",
                ")\n",
                "assert res == 'baz 123'"
            ]
        },
        {
            "cell_type": "code",
            "execution_count": null,
            "id": "42f02e43",
            "metadata": {},
            "outputs": [],
            "source": [
                "res = await remote_ctrl.qux()\n",
                "assert res == 'qux'"
            ]
        },
        {
            "cell_type": "markdown",
            "id": "40b71612",
            "metadata": {},
            "source": [
                "Stop the FastAPI server"
            ]
        },
        {
            "cell_type": "code",
            "execution_count": null,
            "id": "e479217e",
            "metadata": {},
            "outputs": [
                {
                    "data": {
                        "text/plain": [
                            "1"
                        ]
                    },
                    "execution_count": null,
                    "metadata": {},
                    "output_type": "execute_result"
                }
            ],
            "source": [
                "server_process.terminate()\n",
                "server_process.wait()"
            ]
        }
    ],
    "metadata": {
        "jupytext": {
            "cell_metadata_filter": "-all",
            "main_language": "python",
            "notebook_metadata_filter": "-all"
        },
        "kernelspec": {
            "display_name": "ctrlstack",
            "language": "python",
            "name": "python3"
        },
        "language_info": {
            "codemirror_mode": {
                "name": "ipython",
                "version": 3
            },
            "file_extension": ".py",
            "mimetype": "text/x-python",
            "name": "python",
            "nbconvert_exporter": "python",
            "pygments_lexer": "ipython3",
            "version": "3.11.11"
        },
        "nblite_source_hash": "4a0ff4a0b608f2c8af5ab3dd1c9e93a7d2381a9794881be68b8b00996eb44630"
    },
    "nbformat": 4,
    "nbformat_minor": 5
}