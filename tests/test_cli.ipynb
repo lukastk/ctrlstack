{
    "cells": [
        {
            "cell_type": "markdown",
            "id": "c92470c0",
            "metadata": {},
            "source": [
                "# test_server"
            ]
        },
        {
            "cell_type": "code",
            "execution_count": null,
            "id": "2a1db7e2",
            "metadata": {},
            "outputs": [],
            "source": [
                "#|hide\n",
                "import nblite; from nblite import show_doc; nblite.nbl_export()"
            ]
        },
        {
            "cell_type": "code",
            "execution_count": null,
            "id": "ca1f5248",
            "metadata": {},
            "outputs": [],
            "source": [
                "import subprocess\n",
                "import time\n",
                "import json"
            ]
        },
        {
            "cell_type": "code",
            "execution_count": null,
            "id": "a7698d5e",
            "metadata": {},
            "outputs": [
                {
                    "name": "stdout",
                    "output_type": "stream",
                    "text": [
                        "\u001b[1m                                                                                \u001b[0m\n",
                        "\u001b[1m \u001b[0m\u001b[1;33mUsage: \u001b[0m\u001b[1m_test_cli.py [OPTIONS] COMMAND [ARGS]...\u001b[0m\u001b[1m                               \u001b[0m\u001b[1m \u001b[0m\n",
                        "\u001b[1m                                                                                \u001b[0m\n",
                        "\u001b[2m\u256d\u2500\u001b[0m\u001b[2m Options \u001b[0m\u001b[2m\u2500\u2500\u2500\u2500\u2500\u2500\u2500\u2500\u2500\u2500\u2500\u2500\u2500\u2500\u2500\u2500\u2500\u2500\u2500\u2500\u2500\u2500\u2500\u2500\u2500\u2500\u2500\u2500\u2500\u2500\u2500\u2500\u2500\u2500\u2500\u2500\u2500\u2500\u2500\u2500\u2500\u2500\u2500\u2500\u2500\u2500\u2500\u2500\u2500\u2500\u2500\u2500\u2500\u2500\u2500\u2500\u2500\u2500\u2500\u2500\u2500\u2500\u2500\u2500\u2500\u2500\u2500\u001b[0m\u001b[2m\u2500\u256e\u001b[0m\n",
                        "\u001b[2m\u2502\u001b[0m \u001b[1;36m-\u001b[0m\u001b[1;36m-install\u001b[0m\u001b[1;36m-completion\u001b[0m          Install completion for the current shell.      \u001b[2m\u2502\u001b[0m\n",
                        "\u001b[2m\u2502\u001b[0m \u001b[1;36m-\u001b[0m\u001b[1;36m-show\u001b[0m\u001b[1;36m-completion\u001b[0m             Show completion for the current shell, to copy \u001b[2m\u2502\u001b[0m\n",
                        "\u001b[2m\u2502\u001b[0m                               it or customize the installation.              \u001b[2m\u2502\u001b[0m\n",
                        "\u001b[2m\u2502\u001b[0m \u001b[1;36m-\u001b[0m\u001b[1;36m-help\u001b[0m                        Show this message and exit.                    \u001b[2m\u2502\u001b[0m\n",
                        "\u001b[2m\u2570\u2500\u2500\u2500\u2500\u2500\u2500\u2500\u2500\u2500\u2500\u2500\u2500\u2500\u2500\u2500\u2500\u2500\u2500\u2500\u2500\u2500\u2500\u2500\u2500\u2500\u2500\u2500\u2500\u2500\u2500\u2500\u2500\u2500\u2500\u2500\u2500\u2500\u2500\u2500\u2500\u2500\u2500\u2500\u2500\u2500\u2500\u2500\u2500\u2500\u2500\u2500\u2500\u2500\u2500\u2500\u2500\u2500\u2500\u2500\u2500\u2500\u2500\u2500\u2500\u2500\u2500\u2500\u2500\u2500\u2500\u2500\u2500\u2500\u2500\u2500\u2500\u2500\u2500\u256f\u001b[0m\n",
                        "\u001b[2m\u256d\u2500\u001b[0m\u001b[2m Commands \u001b[0m\u001b[2m\u2500\u2500\u2500\u2500\u2500\u2500\u2500\u2500\u2500\u2500\u2500\u2500\u2500\u2500\u2500\u2500\u2500\u2500\u2500\u2500\u2500\u2500\u2500\u2500\u2500\u2500\u2500\u2500\u2500\u2500\u2500\u2500\u2500\u2500\u2500\u2500\u2500\u2500\u2500\u2500\u2500\u2500\u2500\u2500\u2500\u2500\u2500\u2500\u2500\u2500\u2500\u2500\u2500\u2500\u2500\u2500\u2500\u2500\u2500\u2500\u2500\u2500\u2500\u2500\u2500\u2500\u001b[0m\u001b[2m\u2500\u256e\u001b[0m\n",
                        "\u001b[2m\u2502\u001b[0m \u001b[1;36mbar  \u001b[0m\u001b[1;36m \u001b[0m                                                                       \u001b[2m\u2502\u001b[0m\n",
                        "\u001b[2m\u2502\u001b[0m \u001b[1;36mbar2 \u001b[0m\u001b[1;36m \u001b[0m                                                                       \u001b[2m\u2502\u001b[0m\n",
                        "\u001b[2m\u2502\u001b[0m \u001b[1;36mbaz  \u001b[0m\u001b[1;36m \u001b[0m                                                                       \u001b[2m\u2502\u001b[0m\n",
                        "\u001b[2m\u2502\u001b[0m \u001b[1;36mqux  \u001b[0m\u001b[1;36m \u001b[0m                                                                       \u001b[2m\u2502\u001b[0m\n",
                        "\u001b[2m\u2570\u2500\u2500\u2500\u2500\u2500\u2500\u2500\u2500\u2500\u2500\u2500\u2500\u2500\u2500\u2500\u2500\u2500\u2500\u2500\u2500\u2500\u2500\u2500\u2500\u2500\u2500\u2500\u2500\u2500\u2500\u2500\u2500\u2500\u2500\u2500\u2500\u2500\u2500\u2500\u2500\u2500\u2500\u2500\u2500\u2500\u2500\u2500\u2500\u2500\u2500\u2500\u2500\u2500\u2500\u2500\u2500\u2500\u2500\u2500\u2500\u2500\u2500\u2500\u2500\u2500\u2500\u2500\u2500\u2500\u2500\u2500\u2500\u2500\u2500\u2500\u2500\u2500\u2500\u256f\u001b[0m\n",
                        "\n"
                    ]
                }
            ],
            "source": [
                "res = subprocess.run([\"python\", \"_test_cli.py\"])"
            ]
        },
        {
            "cell_type": "code",
            "execution_count": null,
            "id": "5c9e2ee2",
            "metadata": {},
            "outputs": [
                {
                    "name": "stdout",
                    "output_type": "stream",
                    "text": [
                        "bar\r\n"
                    ]
                }
            ],
            "source": [
                "!python _test_cli.py bar"
            ]
        },
        {
            "cell_type": "code",
            "execution_count": null,
            "id": "6d02a3e1",
            "metadata": {},
            "outputs": [],
            "source": [
                "res = subprocess.run([\"python\", \"_test_cli.py\", \"bar\"], capture_output=True, text=True)\n",
                "assert res.stdout.strip() == 'bar'"
            ]
        },
        {
            "cell_type": "code",
            "execution_count": null,
            "id": "0810ee99",
            "metadata": {},
            "outputs": [
                {
                    "name": "stdout",
                    "output_type": "stream",
                    "text": [
                        "arg1: {'name': 'test', 'value': 42}\r\n",
                        "arg2: {'key': 'value'}\r\n",
                        "arg3: 123\r\n"
                    ]
                }
            ],
            "source": [
                "!python _test_cli.py bar2 '{\"name\": \"test\", \"value\": 42}' '{\"key\": \"value\"}' 123"
            ]
        },
        {
            "cell_type": "code",
            "execution_count": null,
            "id": "4fe6658f",
            "metadata": {},
            "outputs": [],
            "source": [
                "res = subprocess.run([\"python\", \"_test_cli.py\", \"bar2\", '{\"name\": \"test\", \"value\": 42}', '{\"key\": \"value\"}', \"123\"], capture_output=True, text=True)\n",
                "assert res.stdout == \"arg1: {'name': 'test', 'value': 42}\\narg2: {'key': 'value'}\\narg3: 123\\n\""
            ]
        },
        {
            "cell_type": "code",
            "execution_count": null,
            "id": "e96efb0a",
            "metadata": {},
            "outputs": [
                {
                    "name": "stdout",
                    "output_type": "stream",
                    "text": [
                        "baz 123\r\n"
                    ]
                }
            ],
            "source": [
                "!python _test_cli.py baz 123"
            ]
        },
        {
            "cell_type": "code",
            "execution_count": null,
            "id": "025b9e42",
            "metadata": {},
            "outputs": [],
            "source": [
                "res = subprocess.run([\"python\", \"_test_cli.py\", \"baz\", \"123\"], capture_output=True, text=True)\n",
                "assert res.stdout.strip() == 'baz 123'"
            ]
        },
        {
            "cell_type": "code",
            "execution_count": null,
            "id": "d3534d28",
            "metadata": {},
            "outputs": [
                {
                    "name": "stdout",
                    "output_type": "stream",
                    "text": [
                        "qux\r\n"
                    ]
                }
            ],
            "source": [
                "!python _test_cli.py qux"
            ]
        },
        {
            "cell_type": "code",
            "execution_count": null,
            "id": "edc079f3",
            "metadata": {},
            "outputs": [],
            "source": [
                "res = subprocess.run([\"python\", \"_test_cli.py\", \"qux\"], capture_output=True, text=True)\n",
                "assert res.stdout.strip() == 'qux'"
            ]
        }
    ],
    "metadata": {
        "jupytext": {
            "cell_metadata_filter": "-all",
            "main_language": "python",
            "notebook_metadata_filter": "-all"
        },
        "kernelspec": {
            "display_name": "ctrlstack",
            "language": "python",
            "name": "python3"
        },
        "language_info": {
            "codemirror_mode": {
                "name": "ipython",
                "version": 3
            },
            "file_extension": ".py",
            "mimetype": "text/x-python",
            "name": "python",
            "nbconvert_exporter": "python",
            "pygments_lexer": "ipython3",
            "version": "3.11.11"
        },
        "nblite_source_hash": "30ba6df346fb26a69e46edb9e0af1e262d5fbb34a63296bfe2bd1e64aedeb491"
    },
    "nbformat": 4,
    "nbformat_minor": 5
}