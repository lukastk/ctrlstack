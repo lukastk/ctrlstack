{
    "cells": [
        {
            "cell_type": "markdown",
            "id": "c92470c0",
            "metadata": {},
            "source": [
                "# test_server"
            ]
        },
        {
            "cell_type": "code",
            "execution_count": null,
            "id": "2a1db7e2",
            "metadata": {},
            "outputs": [],
            "source": [
                "#|hide\n",
                "import nblite; from nblite import show_doc; nblite.nbl_export()"
            ]
        },
        {
            "cell_type": "code",
            "execution_count": null,
            "id": "ca1f5248",
            "metadata": {},
            "outputs": [],
            "source": [
                "import requests\n",
                "import subprocess\n",
                "import time\n",
                "import json"
            ]
        },
        {
            "cell_type": "markdown",
            "id": "c8f73cae",
            "metadata": {},
            "source": [
                "Start the FastAPI server in the background"
            ]
        },
        {
            "cell_type": "code",
            "execution_count": null,
            "id": "5d113e1e",
            "metadata": {},
            "outputs": [],
            "source": [
                "port = 8765\n",
                "server_process = subprocess.Popen(\n",
                "    [\"fastapi\", \"dev\", \"_test_server.py\", '--port', str(port)],\n",
                "    stdout=subprocess.PIPE,\n",
                "    stderr=subprocess.PIPE\n",
                ")\n",
                "time.sleep(2)"
            ]
        },
        {
            "cell_type": "code",
            "execution_count": null,
            "id": "2bf75cb0",
            "metadata": {},
            "outputs": [],
            "source": [
                "response = requests.post(f'http://localhost:{port}/cmd/bar',\n",
                "    params={\n",
                "        'query_msg' : 'Hello from the query.'\n",
                "    },\n",
                "    json={\n",
                "        'body_msg' : 'Hello from the body.'\n",
                "    }\n",
                ")\n",
                "assert response.status_code == 200\n",
                "assert json.loads(response.text) == 'Message 1: Hello from the query.\\nMessage 2: Hello from the body.'"
            ]
        },
        {
            "cell_type": "code",
            "execution_count": null,
            "id": "3304cf43",
            "metadata": {},
            "outputs": [],
            "source": [
                "response = requests.post(f'http://localhost:{port}/cmd/bar2',\n",
                "    params={\n",
                "        'query_msg' : 'Hello from the query.'\n",
                "    },\n",
                "    json={\n",
                "        'body1' : { 'body_msg' : '#1.' },\n",
                "        'body2' : { 'body_msg' : '#2.' },\n",
                "        'my_list' : [1, 2, 3],\n",
                "        'my_tuple' : ('a', 'b')\n",
                "    }\n",
                ")\n",
                "assert response.status_code == 200"
            ]
        },
        {
            "cell_type": "code",
            "execution_count": null,
            "id": "9dc4668a",
            "metadata": {},
            "outputs": [
                {
                    "name": "stdout",
                    "output_type": "stream",
                    "text": [
                        "Message 1: Hello from the query.\n",
                        "Message 2: #1.\n",
                        "Message 3: #2.\n",
                        "My list: [1, 2, 3]\n",
                        "My tuple: ('a', 'b')\n",
                        "Body3: None\n"
                    ]
                }
            ],
            "source": [
                "print(json.loads(response.text))"
            ]
        },
        {
            "cell_type": "code",
            "execution_count": null,
            "id": "441266b5",
            "metadata": {},
            "outputs": [],
            "source": [
                "response = requests.post(f'http://localhost:{port}/cmd/bar2',\n",
                "    params={\n",
                "        'query_msg' : 'Hello from the query.'\n",
                "    },\n",
                "    json={\n",
                "        'body1' : { 'body_msg' : '#1.' },\n",
                "        'body2' : { 'body_msg' : '#2.' },\n",
                "        'my_list' : [1, 2, 3],\n",
                "        'my_tuple' : ('a', 'b'),\n",
                "        'body3' : { 'body_msg' : '#3.' }\n",
                "    }\n",
                ")\n",
                "assert response.status_code == 200"
            ]
        },
        {
            "cell_type": "code",
            "execution_count": null,
            "id": "ae653922",
            "metadata": {},
            "outputs": [
                {
                    "name": "stdout",
                    "output_type": "stream",
                    "text": [
                        "Message 1: Hello from the query.\n",
                        "Message 2: #1.\n",
                        "Message 3: #2.\n",
                        "My list: [1, 2, 3]\n",
                        "My tuple: ('a', 'b')\n",
                        "Body3: #3.\n"
                    ]
                }
            ],
            "source": [
                "print(json.loads(response.text))"
            ]
        },
        {
            "cell_type": "code",
            "execution_count": null,
            "id": "e04463ca",
            "metadata": {},
            "outputs": [],
            "source": [
                "response = requests.get(f'http://localhost:{port}/query/baz',\n",
                "    params={\n",
                "        'x' : 123,\n",
                "    },\n",
                ")\n",
                "assert response.status_code == 200\n",
                "assert json.loads(response.text) == 'baz 123'"
            ]
        },
        {
            "cell_type": "code",
            "execution_count": null,
            "id": "42f02e43",
            "metadata": {},
            "outputs": [],
            "source": [
                "response = requests.get(f'http://localhost:{port}/q/qux')\n",
                "assert response.status_code == 200\n",
                "assert json.loads(response.text) == 'qux'"
            ]
        },
        {
            "cell_type": "markdown",
            "id": "40b71612",
            "metadata": {},
            "source": [
                "Stop the FastAPI server"
            ]
        },
        {
            "cell_type": "code",
            "execution_count": null,
            "id": "e479217e",
            "metadata": {},
            "outputs": [
                {
                    "data": {
                        "text/plain": [
                            "0"
                        ]
                    },
                    "execution_count": null,
                    "metadata": {},
                    "output_type": "execute_result"
                }
            ],
            "source": [
                "server_process.terminate()\n",
                "server_process.wait()"
            ]
        }
    ],
    "metadata": {
        "jupytext": {
            "cell_metadata_filter": "-all",
            "main_language": "python",
            "notebook_metadata_filter": "-all"
        },
        "kernelspec": {
            "display_name": "ctrlstack",
            "language": "python",
            "name": "python3"
        },
        "language_info": {
            "codemirror_mode": {
                "name": "ipython",
                "version": 3
            },
            "file_extension": ".py",
            "mimetype": "text/x-python",
            "name": "python",
            "nbconvert_exporter": "python",
            "pygments_lexer": "ipython3",
            "version": "3.11.11"
        },
        "nblite_source_hash": "b95b5f29c02989cc3ef8f330262c29d3fbd9fef58ed28a0fdd981913a7d2b216"
    },
    "nbformat": 4,
    "nbformat_minor": 5
}