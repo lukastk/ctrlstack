{
    "cells": [
        {
            "cell_type": "markdown",
            "id": "c92470c0",
            "metadata": {},
            "source": [
                "# cli"
            ]
        },
        {
            "cell_type": "code",
            "execution_count": null,
            "id": "7152ffab",
            "metadata": {},
            "outputs": [],
            "source": [
                "#|default_exp cli"
            ]
        },
        {
            "cell_type": "code",
            "execution_count": null,
            "id": "2a1db7e2",
            "metadata": {},
            "outputs": [],
            "source": [
                "#|hide\n",
                "import nblite; from nblite import show_doc; nblite.nbl_export()\n",
                "import ctrlstack.cli as this_module"
            ]
        },
        {
            "cell_type": "code",
            "execution_count": null,
            "id": "33ac175d",
            "metadata": {},
            "outputs": [],
            "source": [
                "#|export\n",
                "import typer\n",
                "from ctrlstack import Controller, ControllerMethodType\n",
                "import functools\n",
                "from typing import List, Callable, Optional\n",
                "import inspect\n",
                "import asyncio"
            ]
        },
        {
            "cell_type": "code",
            "execution_count": null,
            "id": "26b387c5",
            "metadata": {},
            "outputs": [
                {
                    "data": {
                        "text/markdown": [
                            "## create_controller_cli\n",
                            "\n",
                            "```python\n",
                            "create_controller_cli(\n",
                            "   controller: Controller,\n",
                            "   prepend_method_group: bool\n",
                            ") -> Typer\n",
                            "```\n",
                            "\n",
                            "Get the controller server instance.\n",
                            "\n",
                            "**Arguments:**\n",
                            "- `controller` (*Controller*): The controller to get the server for.\n",
                            "\n",
                            "**Returns:** *FastAPI*: The controller server instance.\n",
                            "\n",
                            "---\n"
                        ],
                        "text/plain": [
                            "<IPython.core.display.Markdown object>"
                        ]
                    },
                    "execution_count": null,
                    "metadata": {},
                    "output_type": "execute_result"
                }
            ],
            "source": [
                "#|hide\n",
                "show_doc(this_module.create_controller_cli)"
            ]
        },
        {
            "cell_type": "code",
            "execution_count": null,
            "id": "cd7b0a3d",
            "metadata": {},
            "outputs": [],
            "source": [
                "#|export\n",
                "def create_controller_cli(controller: Controller, prepend_method_group: bool=False) -> typer.Typer:\n",
                "    \"\"\"\n",
                "    Get the controller server instance.\n",
                "    \n",
                "    Args:\n",
                "        controller (Controller): The controller to get the server for.\n",
                "\n",
                "    Returns:\n",
                "        FastAPI: The controller server instance.\n",
                "    \"\"\"\n",
                "    if not isinstance(controller, Controller):\n",
                "        raise TypeError(\"The controller must be an instance of ctrlstack.Controller\")\n",
                "    \n",
                "    app = typer.Typer(invoke_without_command=True)\n",
                "    \n",
                "    @app.callback()\n",
                "    def entrypoint(ctx: typer.Context):\n",
                "        if ctx.invoked_subcommand is None:\n",
                "            typer.echo(ctx.get_help())\n",
                "                \n",
                "    def register_func(func: Callable, cmd_name: str):\n",
                "        if inspect.iscoroutinefunction(func):\n",
                "            @app.command(name=cmd_name)\n",
                "            @functools.wraps(func)\n",
                "            def wrapper(*args, **kwargs):\n",
                "                res = asyncio.run(func(*args, **kwargs))\n",
                "                if res is not None:\n",
                "                    typer.echo(res)\n",
                "        else:\n",
                "            @app.command(name=cmd_name)\n",
                "            @functools.wraps(func)\n",
                "            def wrapper(*args, **kwargs):\n",
                "                res = func(*args, **kwargs)\n",
                "                if res is not None:\n",
                "                    typer.echo(res)\n",
                "    \n",
                "    method_names = controller.get_controller_methods()\n",
                "    for method_name in method_names:\n",
                "        method = getattr(controller, method_name)\n",
                "        if hasattr(method, \"_is_controller_method\"):\n",
                "            if prepend_method_group:\n",
                "                cmd_name = f\"{method._controller_method_group}-{method_name}\" if method._controller_method_group else method_name\n",
                "            else:\n",
                "                cmd_name = method_name\n",
                "            register_func(method, cmd_name)\n",
                "\n",
                "    return app"
            ]
        },
        {
            "cell_type": "code",
            "execution_count": null,
            "id": "eb6bb82c",
            "metadata": {},
            "outputs": [],
            "source": [
                "from ctrlstack import ctrl_cmd_method, ctrl_query_method, ctrl_method\n",
                "\n",
                "class FooController(Controller):\n",
                "    @ctrl_cmd_method\n",
                "    def bar(self):\n",
                "        pass\n",
                "    \n",
                "    @ctrl_query_method\n",
                "    def baz(self, x: int) -> str:\n",
                "        pass\n",
                "    \n",
                "    @ctrl_method(ControllerMethodType.QUERY, \"q\")\n",
                "    def qux(self):\n",
                "        pass\n",
                "    \n",
                "app = create_controller_cli(FooController())"
            ]
        }
    ],
    "metadata": {
        "jupytext": {
            "cell_metadata_filter": "-all",
            "main_language": "python",
            "notebook_metadata_filter": "-all"
        },
        "kernelspec": {
            "display_name": "ctrlstack",
            "language": "python",
            "name": "python3"
        },
        "language_info": {
            "codemirror_mode": {
                "name": "ipython",
                "version": 3
            },
            "file_extension": ".py",
            "mimetype": "text/x-python",
            "name": "python",
            "nbconvert_exporter": "python",
            "pygments_lexer": "ipython3",
            "version": "3.11.11"
        },
        "nblite_source_hash": "c6eed5fcccce4d0a5d7f3de648a283fc159309351227feaf684263426f444e30"
    },
    "nbformat": 4,
    "nbformat_minor": 5
}