{
    "cells": [
        {
            "cell_type": "markdown",
            "id": "c92470c0",
            "metadata": {},
            "source": [
                "# cli"
            ]
        },
        {
            "cell_type": "code",
            "execution_count": null,
            "id": "7152ffab",
            "metadata": {},
            "outputs": [],
            "source": [
                "#|default_exp cli"
            ]
        },
        {
            "cell_type": "code",
            "execution_count": null,
            "id": "2a1db7e2",
            "metadata": {},
            "outputs": [],
            "source": [
                "#|hide\n",
                "import nblite; from nblite import show_doc; nblite.nbl_export()\n",
                "import ctrlstack.cli as this_module"
            ]
        },
        {
            "cell_type": "code",
            "execution_count": null,
            "id": "33ac175d",
            "metadata": {},
            "outputs": [],
            "source": [
                "#|export\n",
                "import typer\n",
                "from ctrlstack import Controller, ControllerMethodType\n",
                "import functools\n",
                "from typing import List, Callable, Optional, get_origin, get_args, Dict, Union, Any, Mapping\n",
                "import inspect\n",
                "import asyncio\n",
                "import json\n",
                "from pydantic import BaseModel"
            ]
        },
        {
            "cell_type": "code",
            "execution_count": null,
            "id": "9ad50804",
            "metadata": {},
            "outputs": [],
            "source": [
                "#|exporti\n",
                "def _is_dict_annotation(annotation):\n",
                "    origin = get_origin(annotation)\n",
                "    if origin is dict or origin is Dict or annotation is dict:\n",
                "        return True\n",
                "    # Handle Optional[Dict] and Union types\n",
                "    if origin is not None and hasattr(origin, \"__origin__\"):\n",
                "        origin = origin.__origin__\n",
                "    if origin is not None and origin.__name__ == \"Union\":\n",
                "        args = get_args(annotation)\n",
                "        return any(_is_dict_annotation(arg) for arg in args if arg is not type(None))\n",
                "    return False"
            ]
        },
        {
            "cell_type": "code",
            "execution_count": null,
            "id": "59e74c65",
            "metadata": {},
            "outputs": [],
            "source": [
                "assert _is_dict_annotation(dict)\n",
                "assert _is_dict_annotation(Dict)\n",
                "assert _is_dict_annotation(Dict[str, int])\n",
                "assert _is_dict_annotation(Optional[Dict[str, str]])"
            ]
        },
        {
            "cell_type": "code",
            "execution_count": null,
            "id": "25640534",
            "metadata": {},
            "outputs": [],
            "source": [
                "#|exporti\n",
                "def _unwrap_optional(annotation):\n",
                "    \"\"\"\n",
                "    If annotation is Optional[T], return T. Otherwise, return annotation.\n",
                "    \"\"\"\n",
                "    origin = get_origin(annotation)\n",
                "    if origin is not None and origin.__name__ == \"Union\":\n",
                "        args = [arg for arg in get_args(annotation) if arg is not type(None)]\n",
                "        if len(args) == 1:\n",
                "            return args[0]\n",
                "    return annotation"
            ]
        },
        {
            "cell_type": "code",
            "execution_count": null,
            "id": "496582d6",
            "metadata": {},
            "outputs": [],
            "source": [
                "assert _unwrap_optional(Dict[str, int]) == Dict[str, int]\n",
                "assert _unwrap_optional(Optional[Dict[str, int]]) == Dict[str, int]\n",
                "assert _unwrap_optional(str) == str\n",
                "assert _unwrap_optional(Optional[str]) == str\n",
                "assert _unwrap_optional(None) == None"
            ]
        },
        {
            "cell_type": "code",
            "execution_count": null,
            "id": "e350a520",
            "metadata": {},
            "outputs": [],
            "source": [
                "#|exporti\n",
                "def _is_pydantic_model(tp) -> bool:\n",
                "    return isinstance(tp, type) and issubclass(tp, BaseModel)\n",
                "\n",
                "def _make_typer_compatible_func(func):\n",
                "    sig = inspect.signature(func)\n",
                "    params = list(sig.parameters.values())\n",
                "\n",
                "    new_params = []\n",
                "    # store converters per-arg instead of classes; more flexible\n",
                "    converters: dict[str, Callable[[str], Any]] = {}\n",
                "    changed_params: set[str] = set()\n",
                "\n",
                "    for p in params:\n",
                "        ann = p.annotation\n",
                "        if ann is inspect._empty:\n",
                "            new_params.append(p)\n",
                "            continue\n",
                "\n",
                "        ann2 = _unwrap_optional(ann)\n",
                "\n",
                "        if _is_pydantic_model(ann2):\n",
                "            # CLI receives JSON string -> parse -> model(**dict)\n",
                "            new_params.append(p.replace(annotation=str))\n",
                "            converters[p.name] = (lambda M: (lambda s: M(**json.loads(s))))(ann2)\n",
                "            changed_params.add(p.name)\n",
                "        elif _is_dict_annotation(ann2):\n",
                "            # CLI receives JSON string -> dict\n",
                "            new_params.append(p.replace(annotation=str))\n",
                "            converters[p.name] = lambda s: json.loads(s)\n",
                "            changed_params.add(p.name)\n",
                "        else:\n",
                "            new_params.append(p)\n",
                "\n",
                "    new_sig = sig.replace(parameters=new_params)\n",
                "\n",
                "    if inspect.iscoroutinefunction(func):\n",
                "        @functools.wraps(func)\n",
                "        async def new_func(*args, **kwargs):\n",
                "            bound = new_sig.bind(*args, **kwargs)\n",
                "            bound.apply_defaults()\n",
                "            for name, conv in converters.items():\n",
                "                if name in bound.arguments and isinstance(bound.arguments[name], str):\n",
                "                    bound.arguments[name] = conv(bound.arguments[name])\n",
                "            return await func(*bound.args, **bound.kwargs)\n",
                "    else:\n",
                "        @functools.wraps(func)\n",
                "        def new_func(*args, **kwargs):\n",
                "            bound = new_sig.bind(*args, **kwargs)\n",
                "            bound.apply_defaults()\n",
                "            for name, conv in converters.items():\n",
                "                if name in bound.arguments and isinstance(bound.arguments[name], str):\n",
                "                    bound.arguments[name] = conv(bound.arguments[name])\n",
                "            return func(*bound.args, **bound.kwargs)\n",
                "\n",
                "    new_func.__signature__ = new_sig\n",
                "    orig_ann = dict(getattr(func, \"__annotations__\", {}))\n",
                "    for name in changed_params:\n",
                "        orig_ann[name] = str\n",
                "    new_func.__annotations__ = orig_ann\n",
                "\n",
                "    return new_func"
            ]
        },
        {
            "cell_type": "code",
            "execution_count": null,
            "id": "52e70442",
            "metadata": {},
            "outputs": [
                {
                    "name": "stdout",
                    "output_type": "stream",
                    "text": [
                        "{'name': 'test', 'value': 42}\n",
                        "{'key': 'value'}\n",
                        "123\n"
                    ]
                }
            ],
            "source": [
                "class MyArg(BaseModel):\n",
                "    name: str\n",
                "    value: int\n",
                "\n",
                "@_make_typer_compatible_func\n",
                "def foo(arg1: MyArg, arg2: dict, arg3: int):\n",
                "    print(arg1.model_dump())\n",
                "    print(arg2)\n",
                "    print(arg3)\n",
                "\n",
                "foo(\n",
                "    arg1='{\"name\": \"test\", \"value\": 42}',\n",
                "    arg2='{\"key\": \"value\"}',\n",
                "    arg3=123\n",
                ")"
            ]
        },
        {
            "cell_type": "code",
            "execution_count": null,
            "id": "26b387c5",
            "metadata": {},
            "outputs": [
                {
                    "data": {
                        "text/markdown": [
                            "## create_controller_cli\n",
                            "\n",
                            "```python\n",
                            "create_controller_cli(\n",
                            "   controller: Controller,\n",
                            "   prepend_method_group: bool\n",
                            ") -> Typer\n",
                            "```\n",
                            "\n",
                            "Get the controller server instance.\n",
                            "\n",
                            "**Arguments:**\n",
                            "- `controller` (*Controller*): The controller to get the server for.\n",
                            "\n",
                            "**Returns:** *FastAPI*: The controller server instance.\n",
                            "\n",
                            "---\n"
                        ],
                        "text/plain": [
                            "<IPython.core.display.Markdown object>"
                        ]
                    },
                    "execution_count": null,
                    "metadata": {},
                    "output_type": "execute_result"
                }
            ],
            "source": [
                "#|hide\n",
                "show_doc(this_module.create_controller_cli)"
            ]
        },
        {
            "cell_type": "code",
            "execution_count": null,
            "id": "cd7b0a3d",
            "metadata": {},
            "outputs": [],
            "source": [
                "#|export\n",
                "def create_controller_cli(controller: Controller, prepend_method_group: bool=False) -> typer.Typer:\n",
                "    \"\"\"\n",
                "    Get the controller server instance.\n",
                "    \n",
                "    Args:\n",
                "        controller (Controller): The controller to get the server for.\n",
                "\n",
                "    Returns:\n",
                "        FastAPI: The controller server instance.\n",
                "    \"\"\"\n",
                "    if not isinstance(controller, Controller):\n",
                "        raise TypeError(\"The controller must be an instance of ctrlstack.Controller\")\n",
                "    \n",
                "    app = typer.Typer(invoke_without_command=True)\n",
                "    \n",
                "    @app.callback()\n",
                "    def entrypoint(ctx: typer.Context):\n",
                "        if ctx.invoked_subcommand is None:\n",
                "            typer.echo(ctx.get_help())\n",
                "            \n",
                "    def register_func(bound_method: Callable, cmd_name: str): \n",
                "        func = _make_typer_compatible_func(bound_method.__func__)\n",
                "        \n",
                "        if inspect.iscoroutinefunction(bound_method):\n",
                "            def wrapper(*args, **kwargs):\n",
                "                res = asyncio.run(func(bound_method.__self__, *args, **kwargs))\n",
                "                if res is not None: typer.echo(res)\n",
                "        else:\n",
                "            def wrapper(*args, **kwargs):\n",
                "                res = func(bound_method.__self__, *args, **kwargs)\n",
                "                if res is not None: typer.echo(res)\n",
                "\n",
                "        wrapper.__name__ = func.__name__\n",
                "        wrapper.__doc__ = func.__doc__\n",
                "        wrapper.__module__ = func.__module__\n",
                "        wrapper.__annotations__ = func.__annotations__\n",
                "        # Remove the first parameter (self) from the signature\n",
                "        old_sig = inspect.signature(func)\n",
                "        new_sig = old_sig.replace(\n",
                "            parameters=list(old_sig.parameters.values())[1:]\n",
                "        )\n",
                "        wrapper.__signature__ = new_sig\n",
                "        app.command(name=cmd_name)(wrapper)\n",
                "    \n",
                "    method_names = controller.get_controller_methods()\n",
                "    for method_name in method_names:\n",
                "        method = getattr(controller, method_name)\n",
                "        if hasattr(method, \"_is_controller_method\"):\n",
                "            if prepend_method_group:\n",
                "                cmd_name = f\"{method._controller_method_group}-{method_name}\" if method._controller_method_group else method_name\n",
                "            else:\n",
                "                cmd_name = method_name\n",
                "            register_func(method, cmd_name)\n",
                "\n",
                "    return app"
            ]
        },
        {
            "cell_type": "code",
            "execution_count": null,
            "id": "eb6bb82c",
            "metadata": {},
            "outputs": [],
            "source": [
                "from ctrlstack import ctrl_cmd_method, ctrl_query_method, ctrl_method\n",
                "\n",
                "class FooController(Controller):\n",
                "    @ctrl_cmd_method\n",
                "    def bar(self):\n",
                "        pass\n",
                "    \n",
                "    @ctrl_cmd_method\n",
                "    def bar2(self, arg: dict):\n",
                "        print(f\"Executing bar2 command with arg: {arg}\")\n",
                "    \n",
                "    @ctrl_query_method\n",
                "    def baz(self, x: int) -> str:\n",
                "        pass\n",
                "    \n",
                "    @ctrl_method(ControllerMethodType.QUERY, \"q\")\n",
                "    def qux(self):\n",
                "        pass\n",
                "    \n",
                "app = create_controller_cli(FooController())"
            ]
        },
        {
            "cell_type": "code",
            "execution_count": null,
            "id": "acc143a0",
            "metadata": {},
            "outputs": [
                {
                    "name": "stdout",
                    "output_type": "stream",
                    "text": [
                        "Executing bar2 command with arg: {'key': 'value'}\n",
                        "\n"
                    ]
                }
            ],
            "source": [
                "from typer.testing import CliRunner\n",
                "runner = CliRunner()\n",
                "result = runner.invoke(app, [\"bar2\", '{\"key\": \"value\"}'])\n",
                "print(result.stdout)"
            ]
        }
    ],
    "metadata": {
        "jupytext": {
            "cell_metadata_filter": "-all",
            "main_language": "python",
            "notebook_metadata_filter": "-all"
        },
        "kernelspec": {
            "display_name": "ctrlstack",
            "language": "python",
            "name": "python3"
        },
        "language_info": {
            "codemirror_mode": {
                "name": "ipython",
                "version": 3
            },
            "file_extension": ".py",
            "mimetype": "text/x-python",
            "name": "python",
            "nbconvert_exporter": "python",
            "pygments_lexer": "ipython3",
            "version": "3.11.11"
        },
        "nblite_source_hash": "20c3ac086d349cfa584369e14f7ad78513ca65c074a0d7d8a76fbfdd71233cef"
    },
    "nbformat": 4,
    "nbformat_minor": 5
}