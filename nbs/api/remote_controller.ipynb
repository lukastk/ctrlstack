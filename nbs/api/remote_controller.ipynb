{
    "cells": [
        {
            "cell_type": "markdown",
            "id": "c92470c0",
            "metadata": {},
            "source": [
                "# remote_controller"
            ]
        },
        {
            "cell_type": "code",
            "execution_count": null,
            "id": "7152ffab",
            "metadata": {},
            "outputs": [],
            "source": [
                "#|default_exp remote_controller"
            ]
        },
        {
            "cell_type": "code",
            "execution_count": null,
            "id": "2a1db7e2",
            "metadata": {},
            "outputs": [],
            "source": [
                "#|hide\n",
                "import nblite; from nblite import show_doc; nblite.nbl_export()\n",
                "import ctrlstack.server as this_module"
            ]
        },
        {
            "cell_type": "code",
            "execution_count": null,
            "id": "33ac175d",
            "metadata": {},
            "outputs": [],
            "source": [
                "#|export\n",
                "from fastapi import FastAPI\n",
                "from ctrlstack import Controller, ControllerMethodType, ctrl_method\n",
                "from ctrlstack.controller_app import _add_method_to_class\n",
                "import functools\n",
                "from typing import Type, Optional, Union, Dict, Any, Callable, List, Tuple\n",
                "import inspect\n",
                "import requests\n",
                "from typing import get_type_hints, get_args, get_origin\n",
                "from pydantic import BaseModel\n",
                "from dataclasses import is_dataclass, asdict\n",
                "from ctrlstack.server import _construct_route\n",
                "import json"
            ]
        },
        {
            "cell_type": "markdown",
            "id": "6dca90d3",
            "metadata": {},
            "source": [
                "Does FastAPI provide some kind of way of converting a set of args and kwargs into inputs to `requests`? That is, converting them into the `params` and `json` of `requests.post` and `requests.get` etc.\n",
                "\n",
                "I know FastAPI does some clever conversions here, and I'd like to replicate it. For instance, I know that if there is a Pydantic model in the arguments then it automatically means that you put it into `json`\n",
                "\n",
                "I basically want a function `prepare_requests_args(kwargs)` that gives me two dictionaries corresponding to `params` and `json` respectively"
            ]
        },
        {
            "cell_type": "code",
            "execution_count": null,
            "id": "f0db3e1d",
            "metadata": {},
            "outputs": [],
            "source": [
                "#|exporti\n",
                "def map_args_with_signature_types(func: Callable, args: List[Any], kwargs: Dict[str, Any], skip_self: bool = True) -> Dict[str, Tuple[Optional[Type], Any]]:\n",
                "    \"\"\"\n",
                "    Map each argument name to a tuple of (signature_type, value) for the given function call.\n",
                "    If no type is annotated, signature_type will be None.\n",
                "    \"\"\"\n",
                "    sig = inspect.signature(func)\n",
                "    \n",
                "    if skip_self:\n",
                "        # Skip the first argument if it's 'self' or 'cls'\n",
                "        params = list(sig.parameters.values())\n",
                "        if params and params[0].name in ('self', 'cls'):\n",
                "            sig = sig.replace(parameters=params[1:])\n",
                "            \n",
                "    bound = sig.bind(*args, **kwargs)\n",
                "    bound.apply_defaults()\n",
                "\n",
                "    type_hints = get_type_hints(func)\n",
                "\n",
                "    return {\n",
                "        name: (type_hints.get(name), value)\n",
                "        for name, value in bound.arguments.items()\n",
                "    }"
            ]
        },
        {
            "cell_type": "code",
            "execution_count": null,
            "id": "ee9270fd",
            "metadata": {},
            "outputs": [
                {
                    "name": "stdout",
                    "output_type": "stream",
                    "text": [
                        "{'a': (None, 10), 'b': (<class 'int'>, 20), 'c': (None, 'default'), 'd': (typing.Optional[str], [1, 2, 3])}\n"
                    ]
                }
            ],
            "source": [
                "def example_func(a, b: int, c=\"default\", d: Optional[str]=None):\n",
                "    pass\n",
                "\n",
                "result = map_args_with_signature_types(example_func, [10, 20], {\"d\": [1, 2, 3]})\n",
                "print(result)"
            ]
        },
        {
            "cell_type": "code",
            "execution_count": null,
            "id": "1c5f222e",
            "metadata": {},
            "outputs": [],
            "source": [
                "#|exporti\n",
                "def prepare_requests_args(func: Callable, args: List[Any], kwargs: Dict[str, Any]) -> Tuple[Dict[str, Any], Dict[str, Any]]:\n",
                "    arg_map = map_args_with_signature_types(func, args, kwargs)\n",
                "    \n",
                "    params = {}\n",
                "    json_body = {}\n",
                "    num_body_params = 0\n",
                "\n",
                "    for key, (sig_type, value) in arg_map.items():\n",
                "        if value is None:\n",
                "            continue\n",
                "        \n",
                "        is_optional = get_origin(sig_type) is Union and type(None) in get_args(sig_type)\n",
                "        if is_optional:\n",
                "            sig_type = [t for t in get_args(sig_type) if t is not None][0]\n",
                "        if sig_type is None:\n",
                "            sig_type = type(value)\n",
                "            \n",
                "        if get_origin(sig_type) in [list, tuple, dict]:\n",
                "            sig_type = get_origin(sig_type)\n",
                "            \n",
                "        # Pydantic models -> json\n",
                "        if issubclass(sig_type, BaseModel):\n",
                "            json_body[key] = value.model_dump()\n",
                "            num_body_params += 1\n",
                "        # Dataclasses -> json\n",
                "        elif is_dataclass(sig_type):\n",
                "            json_body[key] = asdict(value)\n",
                "            num_body_params += 1\n",
                "        # Dicts -> json\n",
                "        elif issubclass(sig_type, dict):\n",
                "            json_body[key] = value\n",
                "            num_body_params += 1\n",
                "        # Lists of models/dicts -> json\n",
                "        elif issubclass(sig_type, list) or issubclass(sig_type, tuple):\n",
                "            if all(isinstance(v, BaseModel) for v in value):\n",
                "                json_body[key] = [v.model_dump() for v in value]\n",
                "            elif all(is_dataclass(v) for v in value):\n",
                "                json_body[key] = [asdict(v) for v in value]\n",
                "            else:\n",
                "                json_body[key] = value\n",
                "            num_body_params += 1\n",
                "        # Primitives -> params\n",
                "        elif sig_type in [int, float, str, bool]:\n",
                "            params[key] = value\n",
                "        else:\n",
                "            params[key] = value  # Fallback for unsupported types\n",
                "        \n",
                "    if num_body_params == 1:\n",
                "        json_body = next(iter(json_body.values())) # Unwrap single body param\n",
                "\n",
                "    return params, json_body"
            ]
        },
        {
            "cell_type": "code",
            "execution_count": null,
            "id": "af9a468f",
            "metadata": {},
            "outputs": [
                {
                    "name": "stdout",
                    "output_type": "stream",
                    "text": [
                        "Params: {'a': 10, 'b': 20}\n",
                        "Body: {'c': [1, 2, 3], 'd': {'name': 'test', 'value': 42}, 'e': {'key1': 'value1', 'key2': 'value2'}}\n"
                    ]
                }
            ],
            "source": [
                "class FooModel(BaseModel):\n",
                "    name: str\n",
                "    value: int\n",
                "\n",
                "def example_func(a, b: int, c: List[int], d: FooModel, e: Dict):\n",
                "    pass\n",
                "\n",
                "params, body = prepare_requests_args(\n",
                "    example_func,\n",
                "    args=[],\n",
                "    kwargs={\n",
                "        'a': 10,\n",
                "        'b': 20,\n",
                "        'c': [1, 2, 3],\n",
                "        'd': FooModel(name=\"test\", value=42),\n",
                "        'e': {'key1': 'value1', 'key2': 'value2'}\n",
                "    }\n",
                ")\n",
                "\n",
                "print(\"Params:\", params)\n",
                "print(\"Body:\", body)"
            ]
        },
        {
            "cell_type": "code",
            "execution_count": null,
            "id": "1e7c5b68",
            "metadata": {},
            "outputs": [],
            "source": [
                "#|export\n",
                "class RemoteController(Controller):\n",
                "    def __init__(self, url: str, api_key: Optional[str] = None):\n",
                "        self._url = url.rstrip('/')\n",
                "        self._api_key = api_key\n",
                "        \n",
                "        if self._api_key:\n",
                "            self._headers = {\"X-API-Key\": self._api_key}\n",
                "        else:\n",
                "            self._headers = {}\n",
                "    \n",
                "    def __init_subclass__(cls, base_controller_cls: Type[Controller], prepend_method_group: bool=True, **kwargs):\n",
                "        super().__init_subclass__(**kwargs)\n",
                "        \n",
                "        def register_method(method: Callable, route: str):\n",
                "            @ctrl_method(method_type=method._controller_method_type, group=method._controller_method_group)\n",
                "            @functools.wraps(method)\n",
                "            async def remote_method(self, *args, **kwargs):\n",
                "                params, body = prepare_requests_args(method, args, kwargs)\n",
                "                if method._controller_method_type == ControllerMethodType.QUERY:\n",
                "                    response = requests.get(f\"{self._url}/{route.lstrip('/')}\", params=params, json=body, headers=self._headers)\n",
                "                elif method._controller_method_type == ControllerMethodType.COMMAND:\n",
                "                    response = requests.post(f\"{self._url}/{route.lstrip('/')}\", params=params, json=body, headers=self._headers)\n",
                "                else:\n",
                "                    raise ValueError(f\"Unsupported method type: {method._controller_method_type}\")\n",
                "                if response.status_code != 200:\n",
                "                    raise Exception(f\"Error calling remote method {method.__name__}: {response.text}\")\n",
                "                json_response = response.json()\n",
                "                if json_response:\n",
                "                    return json_response\n",
                "            _add_method_to_class(remote_method, cls, method.__name__, pass_self=True)\n",
                "        \n",
                "        for method_name in base_controller_cls.get_controller_methods():\n",
                "            method = getattr(base_controller_cls, method_name)\n",
                "            route = _construct_route(method, method_name, prepend_method_group)\n",
                "            register_method(method, route)"
            ]
        },
        {
            "cell_type": "code",
            "execution_count": null,
            "id": "f546b618",
            "metadata": {},
            "outputs": [],
            "source": [
                "#|export\n",
                "def get_remote_controller(\n",
                "    base_controller_cls: Type[Controller],\n",
                "    url: str,\n",
                "    api_key: Optional[str] = None,\n",
                ") -> RemoteController:\n",
                "    class _RemoteController(RemoteController, base_controller_cls=base_controller_cls):\n",
                "        pass\n",
                "    return _RemoteController(url, api_key)"
            ]
        },
        {
            "cell_type": "code",
            "execution_count": null,
            "id": "17b4db97",
            "metadata": {},
            "outputs": [],
            "source": [
                "from ctrlstack import ctrl_cmd_method, ctrl_query_method, ctrl_method\n",
                "\n",
                "class FooController(Controller):\n",
                "    @ctrl_cmd_method\n",
                "    def bar(self):\n",
                "        pass\n",
                "    \n",
                "    @ctrl_query_method\n",
                "    def baz(self, x: int) -> str:\n",
                "        pass\n",
                "    \n",
                "    @ctrl_method(ControllerMethodType.QUERY, \"q\")\n",
                "    def qux(self):\n",
                "        pass\n",
                "\n",
                "foo_remote_controller = get_remote_controller(FooController, url=\"http://localhost:8000\")"
            ]
        }
    ],
    "metadata": {
        "jupytext": {
            "cell_metadata_filter": "-all",
            "main_language": "python",
            "notebook_metadata_filter": "-all"
        },
        "kernelspec": {
            "display_name": "ctrlstack",
            "language": "python",
            "name": "python3"
        },
        "language_info": {
            "codemirror_mode": {
                "name": "ipython",
                "version": 3
            },
            "file_extension": ".py",
            "mimetype": "text/x-python",
            "name": "python",
            "nbconvert_exporter": "python",
            "pygments_lexer": "ipython3",
            "version": "3.11.11"
        },
        "nblite_source_hash": "be7c97e56eaa38fc3a5bd77eeda1d35a54fcc7def938ffa37d07a68d4807e8de"
    },
    "nbformat": 4,
    "nbformat_minor": 5
}