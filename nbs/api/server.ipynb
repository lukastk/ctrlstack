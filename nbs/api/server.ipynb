{
    "cells": [
        {
            "cell_type": "markdown",
            "id": "c92470c0",
            "metadata": {},
            "source": [
                "# server"
            ]
        },
        {
            "cell_type": "code",
            "execution_count": null,
            "id": "7152ffab",
            "metadata": {},
            "outputs": [],
            "source": [
                "#|default_exp server"
            ]
        },
        {
            "cell_type": "code",
            "execution_count": null,
            "id": "2a1db7e2",
            "metadata": {},
            "outputs": [],
            "source": [
                "#|hide\n",
                "import nblite; from nblite import show_doc; nblite.nbl_export()\n",
                "import ctrlstack.server as this_module"
            ]
        },
        {
            "cell_type": "code",
            "execution_count": null,
            "id": "33ac175d",
            "metadata": {},
            "outputs": [],
            "source": [
                "#|export\n",
                "from fastapi import FastAPI, Depends, HTTPException, Security\n",
                "from fastapi.security.api_key import APIKeyHeader\n",
                "from starlette.status import HTTP_401_UNAUTHORIZED\n",
                "from ctrlstack import Controller, ControllerMethodType\n",
                "import functools\n",
                "from typing import Callable, Optional, List\n",
                "import inspect"
            ]
        },
        {
            "cell_type": "code",
            "execution_count": null,
            "id": "e02b573e",
            "metadata": {},
            "outputs": [],
            "source": [
                "#|exporti\n",
                "def _construct_route(method: Callable, method_name:Optional[str]=None, prepend_method_group: bool=True):\n",
                "    method_name = method_name or method.__name__\n",
                "    if prepend_method_group:\n",
                "        route = f\"/{method._controller_method_group}/{method_name}\" if method._controller_method_group else f\"/{method_name}\"\n",
                "    else:\n",
                "        route = f\"/{method_name}\"\n",
                "    return route"
            ]
        },
        {
            "cell_type": "code",
            "execution_count": null,
            "id": "cd7b0a3d",
            "metadata": {},
            "outputs": [],
            "source": [
                "#|export\n",
                "def create_ctrl_server(controller: Controller, prepend_method_group: bool=True, api_keys: Optional[List[str]] = None) -> FastAPI:\n",
                "    \"\"\"\n",
                "    Get the controller server instance.\n",
                "    \n",
                "    Args:\n",
                "        controller (Controller): The controller to get the server for.\n",
                "\n",
                "    Returns:\n",
                "        FastAPI: The controller server instance.\n",
                "    \"\"\"\n",
                "    if api_keys is None:\n",
                "        app = FastAPI()\n",
                "    else:\n",
                "        api_key_header = APIKeyHeader(name=\"X-API-Key\", auto_error=False)\n",
                "        async def get_api_key(api_key: str = Security(api_key_header)):\n",
                "            if api_key in api_keys:\n",
                "                return api_key\n",
                "            raise HTTPException(\n",
                "                status_code=HTTP_401_UNAUTHORIZED,\n",
                "                detail=\"Invalid or missing API Key\",\n",
                "            )\n",
                "        app = FastAPI(dependencies=[Depends(get_api_key)])\n",
                "        \n",
                "    \n",
                "    def register_func(func: Callable, route: str, http_method: str):\n",
                "        if inspect.iscoroutinefunction(func):\n",
                "            @functools.wraps(func)\n",
                "            async def wrapper(*args, **kwargs):\n",
                "                return await func(*args, **kwargs)\n",
                "        else:\n",
                "            @functools.wraps(func)\n",
                "            def wrapper(*args, **kwargs):\n",
                "                return func(*args, **kwargs)\n",
                "        match http_method:\n",
                "            case \"GET\": app.get(route)(wrapper)\n",
                "            case \"POST\": app.post(route)(wrapper)\n",
                "            case _: raise ValueError(f\"Unsupported HTTP method: {http_method}\")\n",
                "    \n",
                "    method_names = controller.get_controller_methods()\n",
                "    for method_name in method_names:\n",
                "        method = getattr(controller, method_name)\n",
                "        if hasattr(method, \"_is_controller_method\"):\n",
                "            route = _construct_route(method, method_name, prepend_method_group)\n",
                "            match method._controller_method_type:\n",
                "                case ControllerMethodType.QUERY:\n",
                "                    register_func(method, route, \"GET\")\n",
                "                case ControllerMethodType.COMMAND:\n",
                "                    register_func(method, route, \"POST\")\n",
                "                case _:\n",
                "                    raise ValueError(f\"Unsupported method type: {method._controller_method_type}\")\n",
                "\n",
                "    return app"
            ]
        },
        {
            "cell_type": "code",
            "execution_count": null,
            "id": "eb6bb82c",
            "metadata": {},
            "outputs": [],
            "source": [
                "from ctrlstack import ctrl_cmd_method, ctrl_query_method, ctrl_method\n",
                "\n",
                "class FooController(Controller):\n",
                "    @ctrl_cmd_method\n",
                "    def bar(self):\n",
                "        pass\n",
                "    \n",
                "    @ctrl_query_method\n",
                "    def baz(self, x: int) -> str:\n",
                "        pass\n",
                "    \n",
                "    @ctrl_method(ControllerMethodType.QUERY, \"q\")\n",
                "    def qux(self):\n",
                "        pass\n",
                "    \n",
                "app = create_ctrl_server(FooController())"
            ]
        }
    ],
    "metadata": {
        "jupytext": {
            "cell_metadata_filter": "-all",
            "main_language": "python",
            "notebook_metadata_filter": "-all"
        },
        "kernelspec": {
            "display_name": "ctrlstack",
            "language": "python",
            "name": "python3"
        },
        "language_info": {
            "codemirror_mode": {
                "name": "ipython",
                "version": 3
            },
            "file_extension": ".py",
            "mimetype": "text/x-python",
            "name": "python",
            "nbconvert_exporter": "python",
            "pygments_lexer": "ipython3",
            "version": "3.11.11"
        },
        "nblite_source_hash": "2df724587540a42d9053a5c8828e5a638558415dc9338339131f97a7712169a7"
    },
    "nbformat": 4,
    "nbformat_minor": 5
}