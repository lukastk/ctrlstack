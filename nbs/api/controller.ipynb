{
    "cells": [
        {
            "cell_type": "markdown",
            "id": "2b839885",
            "metadata": {},
            "source": [
                "# controller"
            ]
        },
        {
            "cell_type": "code",
            "execution_count": null,
            "id": "ceefbdcf",
            "metadata": {},
            "outputs": [],
            "source": [
                "#|default_exp controller"
            ]
        },
        {
            "cell_type": "code",
            "execution_count": null,
            "id": "066aea4a",
            "metadata": {},
            "outputs": [],
            "source": [
                "#|hide\n",
                "import nblite; from nblite import show_doc; nblite.nbl_export()\n",
                "import ctrlstack.controller as this_module"
            ]
        },
        {
            "cell_type": "code",
            "execution_count": null,
            "id": "82878aab",
            "metadata": {},
            "outputs": [],
            "source": [
                "#|export\n",
                "from abc import ABC, abstractmethod\n",
                "from enum import Enum"
            ]
        },
        {
            "cell_type": "code",
            "execution_count": null,
            "id": "14948cbd",
            "metadata": {},
            "outputs": [],
            "source": [
                "#|export\n",
                "class ControllerMethodType(Enum):\n",
                "    COMMAND = 'command'\n",
                "    QUERY = 'query'\n",
                "\n",
                "def ctrl_method(method_type: ControllerMethodType, group: str):\n",
                "    \"\"\"\n",
                "    Decorator to define a Controller method\n",
                "    \"\"\"\n",
                "    if group is None or not isinstance(group, str):\n",
                "        raise ValueError(\"Group must be a string.\")\n",
                "    if not isinstance(method_type, ControllerMethodType):\n",
                "        raise ValueError(\"Method type must be an instance of ControllerMethodType Enum.\")\n",
                "    def decorator(func):\n",
                "        func._is_controller_method = True\n",
                "        func._controller_method_group = group\n",
                "        func._controller_method_type = method_type\n",
                "        return func\n",
                "    return decorator\n",
                "\n",
                "def ctrl_cmd_method(func):\n",
                "    \"\"\"Decorator to define a command method in a Controller.\"\"\"\n",
                "    return ctrl_method(ControllerMethodType.COMMAND, 'cmd')(func)\n",
                "\n",
                "def ctrl_query_method(func):\n",
                "    \"\"\"Decorator to define a query method in a Controller.\"\"\"\n",
                "    return ctrl_method(ControllerMethodType.QUERY, 'query')(func)"
            ]
        },
        {
            "cell_type": "code",
            "execution_count": null,
            "id": "3c3b0f80",
            "metadata": {},
            "outputs": [],
            "source": [
                "#|export\n",
                "class Controller(ABC):\n",
                "    @classmethod\n",
                "    def get_controller_method_groups(cls):\n",
                "        \"\"\"List of controller method types in this controller.\"\"\"\n",
                "        return [getattr(cls, name)._controller_method_group for name in dir(cls) if hasattr(getattr(cls, name), '_controller_method_group')]\n",
                "    \n",
                "    @classmethod\n",
                "    def get_controller_methods(cls, method_type: ControllerMethodType|None=None, group: str|None=None):\n",
                "        \"\"\"List of controller methods in this controller.\"\"\"\n",
                "        controller_methods = [name for name in dir(cls) if hasattr(getattr(cls, name), '_is_controller_method') and getattr(cls, name)._is_controller_method]\n",
                "        if method_type is not None:\n",
                "            controller_methods = [name for name in controller_methods if getattr(cls, name)._controller_method_type == method_type]\n",
                "        if group is not None:\n",
                "            controller_methods = [name for name in controller_methods if getattr(cls, name)._controller_method_group == group]\n",
                "        return controller_methods"
            ]
        },
        {
            "cell_type": "code",
            "execution_count": null,
            "id": "ec66fa4a",
            "metadata": {},
            "outputs": [],
            "source": [
                "class FooController(Controller):\n",
                "    @ctrl_cmd_method\n",
                "    def bar(self):\n",
                "        pass\n",
                "    \n",
                "    @ctrl_query_method\n",
                "    def baz(self, x: int) -> str:\n",
                "        pass\n",
                "    \n",
                "    @ctrl_method(ControllerMethodType.QUERY, \"q\")\n",
                "    def qux(self):\n",
                "        pass\n",
                "    \n",
                "assert FooController.get_controller_method_groups() == ['cmd', 'query', 'q']\n",
                "assert FooController.get_controller_methods() == ['bar', 'baz', 'qux']\n",
                "assert FooController.get_controller_methods(group='cmd') == ['bar']\n",
                "assert FooController.get_controller_methods(method_type=ControllerMethodType.COMMAND) == ['bar']\n",
                "assert FooController.get_controller_methods(method_type=ControllerMethodType.QUERY) == ['baz', 'qux']\n",
                "assert FooController.get_controller_methods(group='query') == ['baz']\n",
                "assert FooController.get_controller_methods(group='q') == ['qux']"
            ]
        }
    ],
    "metadata": {
        "jupytext": {
            "cell_metadata_filter": "-all",
            "main_language": "python",
            "notebook_metadata_filter": "-all"
        },
        "kernelspec": {
            "display_name": "ctrlstack",
            "language": "python",
            "name": "python3"
        },
        "language_info": {
            "codemirror_mode": {
                "name": "ipython",
                "version": 3
            },
            "file_extension": ".py",
            "mimetype": "text/x-python",
            "name": "python",
            "nbconvert_exporter": "python",
            "pygments_lexer": "ipython3",
            "version": "3.11.11"
        },
        "nblite_source_hash": "a55b703468acbe30f1700d23fef88861a8f45fbb7fcac87efe684e7976a2133c"
    },
    "nbformat": 4,
    "nbformat_minor": 5
}