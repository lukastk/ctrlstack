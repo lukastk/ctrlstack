{
    "cells": [
        {
            "cell_type": "markdown",
            "id": "c92470c0",
            "metadata": {},
            "source": [
                "# controller_app"
            ]
        },
        {
            "cell_type": "code",
            "execution_count": null,
            "id": "7152ffab",
            "metadata": {},
            "outputs": [],
            "source": [
                "#|default_exp controller_app"
            ]
        },
        {
            "cell_type": "code",
            "execution_count": null,
            "id": "2a1db7e2",
            "metadata": {},
            "outputs": [],
            "source": [
                "#|hide\n",
                "import nblite; from nblite import show_doc; nblite.nbl_export()\n",
                "import ctrlstack.server as this_module"
            ]
        },
        {
            "cell_type": "code",
            "execution_count": null,
            "id": "33ac175d",
            "metadata": {},
            "outputs": [],
            "source": [
                "#|export\n",
                "from ctrlstack.controller import Controller, ControllerMethodType, ctrl_method, ctrl_cmd_method, ctrl_query_method\n",
                "import functools\n",
                "from typing import Type, Callable, Optional\n",
                "import inspect"
            ]
        },
        {
            "cell_type": "code",
            "execution_count": null,
            "id": "b977f985",
            "metadata": {},
            "outputs": [],
            "source": [
                "#|exporti\n",
                "def _add_method_to_class(func: Callable, controller_cls: Type[Controller], name: Optional[str], pass_self: bool = False):\n",
                "    if inspect.iscoroutinefunction(func):\n",
                "        async def method(self, *args, **kwargs):\n",
                "            if pass_self: return await func(self, *args, **kwargs)\n",
                "            return await func(*args, **kwargs)\n",
                "    else:\n",
                "        def method(self, *args, **kwargs):\n",
                "            if pass_self: return func(self, *args, **kwargs)\n",
                "            return func(*args, **kwargs)\n",
                "        \n",
                "    # Keep metadata, but fix what inspect sees\n",
                "    functools.update_wrapper(method, func)\n",
                "\n",
                "    # Build a signature that includes `self` first\n",
                "    orig_sig = inspect.signature(func)\n",
                "    if orig_sig.parameters and list(orig_sig.parameters.keys())[0] != \"self\":\n",
                "        params = (\n",
                "            inspect.Parameter(\"self\", inspect.Parameter.POSITIONAL_OR_KEYWORD),\n",
                "            *orig_sig.parameters.values(),\n",
                "        )\n",
                "    else:\n",
                "        params = orig_sig.parameters.values()\n",
                "    \n",
                "    method.__signature__ = inspect.Signature(\n",
                "        parameters=params,\n",
                "        return_annotation=orig_sig.return_annotation\n",
                "    )\n",
                "        \n",
                "    method.__name__ = name or func.__name__\n",
                "    setattr(controller_cls, method.__name__, method)"
            ]
        },
        {
            "cell_type": "code",
            "execution_count": null,
            "id": "c920385b",
            "metadata": {},
            "outputs": [],
            "source": [
                "#|export\n",
                "class ControllerApp:\n",
                "    def __init__(self):\n",
                "        class _Controller(Controller): pass\n",
                "        self._controller_cls = _Controller\n",
                "    \n",
                "    @property\n",
                "    def controller_cls(self) -> Type[Controller]:\n",
                "        return self._controller_cls\n",
                "    \n",
                "    def register(self, method_type: ControllerMethodType, group: str, name: Optional[str] = None):\n",
                "        def decorator(func: Callable):\n",
                "            _func = ctrl_method(method_type=method_type, group=group)(func)\n",
                "            _add_method_to_class(_func, self._controller_cls, name)\n",
                "            return func\n",
                "        return decorator\n",
                "    \n",
                "    def register_cmd(self, name: Optional[str] = None):\n",
                "        def decorator(func: Callable):\n",
                "            _func = ctrl_cmd_method(func)\n",
                "            _add_method_to_class(_func, self._controller_cls, name)\n",
                "            return func\n",
                "        return decorator\n",
                "    \n",
                "    def register_query(self, name: Optional[str] = None):\n",
                "        def decorator(func: Callable):\n",
                "            _func = ctrl_query_method(func)\n",
                "            _add_method_to_class(_func, self._controller_cls, name)\n",
                "            return func\n",
                "        return decorator\n",
                "    \n",
                "    def get_controller(self) -> Type[Controller]:\n",
                "        return self._controller_cls()\n",
                "    \n",
                "    def crreate_server_app(self, *args, **kwargs) -> 'FastAPI':\n",
                "        from ctrlstack.server import create_ctrl_server\n",
                "        return create_ctrl_server(self.get_controller(), *args, **kwargs)\n",
                "    \n",
                "    def create_cli_app(self, *args, **kwargs) -> 'ClickApp':\n",
                "        from ctrlstack.cli import create_ctrl_cli\n",
                "        return create_ctrl_cli(self.get_controller(), *args, **kwargs)"
            ]
        },
        {
            "cell_type": "code",
            "execution_count": null,
            "id": "4ea7ef6f",
            "metadata": {},
            "outputs": [],
            "source": [
                "capp = ControllerApp()\n",
                "\n",
                "@capp.register(ControllerMethodType.COMMAND, group=\"test\")\n",
                "def foo():\n",
                "    \"\"\"A simple test function.\"\"\"\n",
                "    return \"Hello, World!\"\n",
                "\n",
                "@capp.register_cmd(name=\"bar_cmd\")\n",
                "def bar():\n",
                "    \"\"\"A simple test function.\"\"\"\n",
                "    return \"Hello, World!\"\n",
                "\n",
                "@capp.register_query(name=\"baz_query\")\n",
                "def baz():\n",
                "    \"\"\"A simple test function.\"\"\"\n",
                "    return \"Hello, World!\"\n",
                "\n",
                "assert capp.controller_cls.get_controller_methods() == ['bar_cmd', 'baz_query', 'foo']\n",
                "assert capp.controller_cls.get_controller_method_groups() == ['cmd', 'query', 'test']\n",
                "assert capp.get_controller().foo() == \"Hello, World!\"\n",
                "assert capp.get_controller().bar_cmd() == \"Hello, World!\"\n",
                "assert capp.get_controller().baz_query() == \"Hello, World!\"\n",
                "\n",
                "cli_app = capp.create_cli_app()\n",
                "server_app = capp.crreate_server_app()"
            ]
        }
    ],
    "metadata": {
        "jupytext": {
            "cell_metadata_filter": "-all",
            "main_language": "python",
            "notebook_metadata_filter": "-all"
        },
        "kernelspec": {
            "display_name": "ctrlstack",
            "language": "python",
            "name": "python3"
        },
        "language_info": {
            "codemirror_mode": {
                "name": "ipython",
                "version": 3
            },
            "file_extension": ".py",
            "mimetype": "text/x-python",
            "name": "python",
            "nbconvert_exporter": "python",
            "pygments_lexer": "ipython3",
            "version": "3.11.11"
        },
        "nblite_source_hash": "f36256b676b7210bdffaf33531c8582861603424afc64b614f6dd6324ce7efad"
    },
    "nbformat": 4,
    "nbformat_minor": 5
}