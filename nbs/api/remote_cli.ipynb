{
    "cells": [
        {
            "cell_type": "markdown",
            "id": "c92470c0",
            "metadata": {},
            "source": [
                "# remote_cli"
            ]
        },
        {
            "cell_type": "code",
            "execution_count": null,
            "id": "7152ffab",
            "metadata": {},
            "outputs": [],
            "source": [
                "#|default_exp remote_cli"
            ]
        },
        {
            "cell_type": "code",
            "execution_count": null,
            "id": "2a1db7e2",
            "metadata": {},
            "outputs": [],
            "source": [
                "#|hide\n",
                "import nblite; from nblite import show_doc; nblite.nbl_export()\n",
                "import ctrlstack.remote_cli as this_module"
            ]
        },
        {
            "cell_type": "code",
            "execution_count": null,
            "id": "33ac175d",
            "metadata": {},
            "outputs": [],
            "source": [
                "#|export\n",
                "from fastapi import FastAPI\n",
                "import functools\n",
                "from typing import Type, Optional, Callable\n",
                "import typer\n",
                "import inspect\n",
                "import subprocess\n",
                "import sys\n",
                "import time, math\n",
                "from ctrlstack import Controller, ControllerMethodType\n",
                "from ctrlstack.cli import create_ctrl_cli\n",
                "from ctrlstack.server import create_ctrl_server, start_local_controller_server_process, check_local_controller_server_process, stop_local_controller_server_process, _find_free_port\n",
                "from ctrlstack.remote_controller import create_remote_ctrl"
            ]
        },
        {
            "cell_type": "markdown",
            "id": "980c6e67",
            "metadata": {},
            "source": [
                "- Create a function that can start a fastapi server locally, but only if a lock file doesnt exist.\n",
                "   - It randomises the port name and stores it in the lock file.\n",
                "   - If the lock file exists but the port is not occupied, it removes the lock file and starts the server.\n",
                "- Define additional typer commands that can be used to start, stop and restart the server."
            ]
        },
        {
            "cell_type": "code",
            "execution_count": null,
            "id": "f70b679f",
            "metadata": {},
            "outputs": [],
            "source": [
                "#|exporti\n",
                "import pickle\n",
                "def is_pickleable(obj):\n",
                "    try:\n",
                "        pickle.dumps(obj)\n",
                "        return True\n",
                "    except Exception:\n",
                "        return False"
            ]
        },
        {
            "cell_type": "code",
            "execution_count": null,
            "id": "e3f59d6d",
            "metadata": {},
            "outputs": [],
            "source": [
                "assert not is_pickleable(lambda x: x)\n",
                "def foo(): pass\n",
                "assert is_pickleable(foo)"
            ]
        },
        {
            "cell_type": "code",
            "execution_count": null,
            "id": "6392bbab",
            "metadata": {},
            "outputs": [],
            "source": [
                "#|export\n",
                "def create_remote_ctrl_cli(\n",
                "    base_controller_cls: Type[Controller],\n",
                "    url: Optional[str] = None,\n",
                "    api_key: Optional[str] = None,\n",
                "    local_mode: bool = False,\n",
                "    start_local_server_automatically: bool = True,\n",
                "    lockfile_path: Optional[str] = None,\n",
                "    controller: Controller|Callable[[], Controller] = None,\n",
                "    local_server_start_timeout: float = 10.0\n",
                ") -> typer.Typer:\n",
                "    if local_mode and url is not None:\n",
                "        raise ValueError(\"If 'local_mode' is True then 'url' must be None.\")\n",
                "    if not local_mode and controller is not None:\n",
                "        raise ValueError(\"If 'local_mode' is False then 'controller' must be None.\")\n",
                "    if local_mode:\n",
                "        url = \"http://localhost\" #\u00a0Placeholder\n",
                "        \n",
                "    remote_controller = create_remote_ctrl(base_controller_cls, url, api_key)\n",
                "    cli_app = create_ctrl_cli(remote_controller)\n",
                "    \n",
                "    if local_mode:\n",
                "        controller = controller or base_controller_cls()\n",
                "        \n",
                "        if lockfile_path is None:\n",
                "            raise ValueError(\"If 'local_mode' is True then 'lockfile_path' must be specified.\")\n",
                "        \n",
                "        @cli_app.command()\n",
                "        def start_local_server(verbose: bool = True, port: Optional[int] = None):\n",
                "            start_local_controller_server_process(controller, lockfile_path, port=port)\n",
                "        \n",
                "        @cli_app.command()\n",
                "        def get_server_status():\n",
                "            port, pid, server_is_running = check_local_controller_server_process(lockfile_path)\n",
                "            if server_is_running:\n",
                "                typer.echo(f\"Local server is running on port {port} with PID {pid}.\")\n",
                "            else:\n",
                "                typer.echo(\"No local server is running.\")\n",
                "        \n",
                "        @cli_app.command()\n",
                "        def stop_local_server(verbose: bool = True):\n",
                "            port, pid, proc_existed = stop_local_controller_server_process(lockfile_path)\n",
                "            if verbose:\n",
                "                if proc_existed:\n",
                "                    typer.echo(f\"Stopped local server on port {port} with PID {pid}.\")\n",
                "                else:\n",
                "                    typer.echo(f\"No local server running.\")\n",
                "                    \n",
                "        @cli_app.command()\n",
                "        def restart_local_server(verbose: bool = True, port: Optional[int] = None):\n",
                "            port, pid, proc_existed = stop_local_controller_server_process(lockfile_path)\n",
                "            if verbose:\n",
                "                if proc_existed:\n",
                "                    typer.echo(f\"Stopped local server on port {port} with PID {pid}.\")\n",
                "                else:\n",
                "                    typer.echo(f\"No local server running.\")\n",
                "            port = port or _find_free_port()\n",
                "            start_local_controller_server_process(controller, lockfile_path, port=port)\n",
                "                    \n",
                "        @cli_app.callback()\n",
                "        def entrypoint(ctx: typer.Context): \n",
                "            if start_local_server_automatically and ctx.invoked_subcommand is not None and ctx.invoked_subcommand not in [\"start-local-server\", \"get-server-status\", \"stop-local-server\"]:\n",
                "                _, _, server_is_running = check_local_controller_server_process(lockfile_path)\n",
                "                if not server_is_running:\n",
                "                    subprocess.Popen([sys.executable, sys.argv[0]] + [\"start-local-server\"], start_new_session=True, stdout=subprocess.DEVNULL, stderr=subprocess.DEVNULL)\n",
                "                \n",
                "                sleep_time = 0.1\n",
                "                max_tries = math.ceil(local_server_start_timeout / sleep_time)\n",
                "                for _ in range(max_tries):\n",
                "                    port, pid, server_is_running = check_local_controller_server_process(lockfile_path)\n",
                "                    if server_is_running:\n",
                "                        break\n",
                "                    time.sleep(sleep_time)\n",
                "                if not server_is_running:\n",
                "                    typer.echo(f\"Local server did not start within {local_server_start_timeout} seconds. Please check the logs.\")\n",
                "                    raise typer.Exit(code=1)\n",
                "                remote_controller.set_url(f\"http://localhost:{port}\")\n",
                "            \n",
                "            if ctx.invoked_subcommand is None:\n",
                "                typer.echo(ctx.get_help())\n",
                "        \n",
                "    return cli_app\n",
                "    "
            ]
        },
        {
            "cell_type": "code",
            "execution_count": null,
            "id": "eb6bb82c",
            "metadata": {},
            "outputs": [],
            "source": [
                "from ctrlstack import ctrl_cmd_method, ctrl_query_method, ctrl_method\n",
                "\n",
                "class FooController(Controller):\n",
                "    @ctrl_cmd_method\n",
                "    def bar(self):\n",
                "        pass\n",
                "    \n",
                "    @ctrl_query_method\n",
                "    def baz(self, x: int) -> str:\n",
                "        pass\n",
                "    \n",
                "    @ctrl_method(ControllerMethodType.QUERY, \"q\")\n",
                "    def qux(self):\n",
                "        pass\n",
                "    \n",
                "remote_controller = create_remote_ctrl(FooController, \"local\")\n",
                "    \n",
                "remote_cli_app = create_remote_ctrl_cli(\n",
                "    FooController,\n",
                "    local_mode=True,\n",
                "    lockfile_path=\"/tmp/ctrlstack.lock\",\n",
                ")"
            ]
        }
    ],
    "metadata": {
        "jupytext": {
            "cell_metadata_filter": "-all",
            "main_language": "python",
            "notebook_metadata_filter": "-all"
        },
        "kernelspec": {
            "display_name": "ctrlstack",
            "language": "python",
            "name": "python3"
        },
        "language_info": {
            "codemirror_mode": {
                "name": "ipython",
                "version": 3
            },
            "file_extension": ".py",
            "mimetype": "text/x-python",
            "name": "python",
            "nbconvert_exporter": "python",
            "pygments_lexer": "ipython3",
            "version": "3.11.11"
        },
        "nblite_source_hash": "96e807ea74723d9fcf1c285f3d9f470ff009d860da650a494d5cec8aac974c23"
    },
    "nbformat": 4,
    "nbformat_minor": 5
}