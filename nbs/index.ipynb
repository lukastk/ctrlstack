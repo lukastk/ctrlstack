{
    "cells": [
        {
            "cell_type": "markdown",
            "id": "20118f5e",
            "metadata": {},
            "source": [
                "# ctrlstack"
            ]
        },
        {
            "cell_type": "code",
            "execution_count": null,
            "id": "b19fd165",
            "metadata": {},
            "outputs": [],
            "source": [
                "#|hide\n",
                "import nblite; from nbdev.showdoc import show_doc; nblite.nbl_export()"
            ]
        },
        {
            "cell_type": "code",
            "execution_count": null,
            "id": "7b9514e4",
            "metadata": {},
            "outputs": [],
            "source": [
                "#|hide\n",
                "import ctrlstack as proj"
            ]
        },
        {
            "cell_type": "markdown",
            "id": "913a212c",
            "metadata": {},
            "source": [
                "# Development install instructions\n",
                "\n",
                "## Prerequisites\n",
                "\n",
                "- Install [uv](https://docs.astral.sh/uv/getting-started/installation/).\n",
                "- Install [direnv](https://direnv.net/) to automatically load the project virtual environment when entering it.\n",
                "    - Mac: `brew install direnv`\n",
                "    - Linux: `curl -sfL https://direnv.net/install.sh | bash`\n",
                "\n",
                "## Setting up the environment\n",
                "\n",
                "Run the following:\n",
                "\n",
                "```bash\n",
                "# In the root of the repo folder\n",
                "uv sync --all-extras # Installs the virtual environment at './.venv'\n",
                "direnv allow # Allows the automatic running of the script './.envrc'\n",
                "nbl install-hooks # Installs a git hooks that ensures that notebooks are added properly\n",
                "```\n",
                "\n",
                "You are now set up to develop the codebase.\n",
                "\n",
                "Further instructions:\n",
                "\n",
                "- To export notebooks run `nbl export`.\n",
                "- To clean notebooks run `nbl clean`.\n",
                "- To see other available commands run just `nbl`.\n",
                "- To add a new dependency run `uv add package-name`. See the the [uv documentation](https://docs.astral.sh/uv/) for more details.\n",
                "- You need to `git add` all 'twinned' notebooks for the commit to be validated by the git-hook. For example, if you add `nbs/my-nb.ipynb`, you must also add `pts/my-nb.pct.py`.\n",
                "- To render the documentation, run `nbl render-docs`. To preview it run `nbl preview-docs`\n",
                "- To upgrade all dependencies run `uv sync --upgrade --all-extras`"
            ]
        }
    ],
    "metadata": {
        "jupytext": {
            "cell_metadata_filter": "-all",
            "main_language": "python",
            "notebook_metadata_filter": "-all"
        },
        "language_info": {
            "codemirror_mode": {
                "name": "ipython",
                "version": 3
            },
            "file_extension": ".py",
            "mimetype": "text/x-python",
            "name": "python",
            "nbconvert_exporter": "python",
            "pygments_lexer": "ipython3",
            "version": "3.11.11"
        },
        "nblite_source_hash": "56f6c710e751316cb77b48f7eb86a5318f319a872bd397215a67ccc4035cf440"
    },
    "nbformat": 4,
    "nbformat_minor": 5
}